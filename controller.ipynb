{
 "cells": [
  {
   "cell_type": "markdown",
   "metadata": {},
   "source": [
    "# Band Player"
   ]
  },
  {
   "cell_type": "markdown",
   "metadata": {},
   "source": [
    "# Setup"
   ]
  },
  {
   "cell_type": "markdown",
   "metadata": {},
   "source": [
    "## Import"
   ]
  },
  {
   "cell_type": "code",
   "execution_count": 1,
   "metadata": {},
   "outputs": [
    {
     "name": "stdout",
     "output_type": "stream",
     "text": [
      "pygame 1.9.6\n",
      "Hello from the pygame community. https://www.pygame.org/contribute.html\n"
     ]
    }
   ],
   "source": [
    "# Import\n",
    "import pygame.midi\n",
    "# Personal Import\n",
    "from src import Midi\n",
    "from src.Midi.Player import MidiPlayer, BandPlayer\n",
    "from src.MidiGenerator import MidiGenerator"
   ]
  },
  {
   "cell_type": "markdown",
   "metadata": {},
   "source": [
    "## Variables"
   ]
  },
  {
   "cell_type": "code",
   "execution_count": 2,
   "metadata": {},
   "outputs": [],
   "source": [
    "model_id = 'None-MRMVAEMono,pc,2-2-0'\n",
    "instrument = 'Rock-Organ'\n",
    "tempo = 120\n",
    "played_voice = 0   # The voice played in the band\n",
    "instrument_mask = None # The instruments to consider (None means all of them)\n",
    "max_plotted = 4   # The number of step plotted (if -1 --> nb_steps of the model)\n",
    "include_output = True   # Include the outputs of the model as input for the next steps"
   ]
  },
  {
   "cell_type": "code",
   "execution_count": 3,
   "metadata": {},
   "outputs": [],
   "source": [
    "def compute_instrument(inst):\n",
    "    \"\"\"\n",
    "    Get the midi number of the instrument\n",
    "    \"\"\"\n",
    "    try:\n",
    "        inst = int(inst)\n",
    "    except ValueError:\n",
    "        inst = Midi.instruments.all_midi_instruments.index(inst)\n",
    "    return inst\n",
    "instrument = compute_instrument(instrument)"
   ]
  },
  {
   "cell_type": "markdown",
   "metadata": {},
   "source": [
    "# Run"
   ]
  },
  {
   "cell_type": "markdown",
   "metadata": {},
   "source": [
    "## Get model"
   ]
  },
  {
   "cell_type": "code",
   "execution_count": 4,
   "metadata": {},
   "outputs": [
    {
     "name": "stdout",
     "output_type": "stream",
     "text": [
      "new save path for Midi files : \u001b[36mgenerated_midis\\name-m()-e(0)-(0)-generation(0)\u001b[0m\n",
      "Got new full_name : \u001b[34mname-m()-e(0)-(0)\u001b[0m\n",
      "new save path for Midi files : \u001b[36mgenerated_midis\\name-m()-e(0)-(0)-generation(0)\u001b[0m\n",
      "Got new full_name : \u001b[34mname-m(MRMVAEMono,pc,2)-e(0)-(0)\u001b[0m\n",
      "new save path for Midi files : \u001b[36mgenerated_midis\\name-m(MRMVAEMono,pc,2)-e(0)-(0)-generation(0)\u001b[0m\n",
      "Got new full_name : \u001b[34mname-m(MRMVAEMono,pc,2)-e(0)-(0)\u001b[0m\n",
      "new save path for Midi files : \u001b[36mgenerated_midis\\name-m(MRMVAEMono,pc,2)-e(0)-(0)-generation(0)\u001b[0m\n",
      "Got new full_name : \u001b[34mname-m(MRMVAEMono,pc,2)-e(2)-(0)\u001b[0m\n",
      "new save path for Midi files : \u001b[36mgenerated_midis\\name-m(MRMVAEMono,pc,2)-e(2)-(0)-generation(7)\u001b[0m\n",
      "Definition of the graph ...\n",
      "Done\n"
     ]
    }
   ],
   "source": [
    "midi_generator = MidiGenerator()\n",
    "midi_generator.recreate_model(\n",
    "    id=model_id,\n",
    "    print_model=False\n",
    ")\n",
    "print('Done')"
   ]
  },
  {
   "cell_type": "markdown",
   "metadata": {},
   "source": [
    "## Get the controller"
   ]
  },
  {
   "cell_type": "code",
   "execution_count": 5,
   "metadata": {},
   "outputs": [],
   "source": [
    "controller = BandPlayer(\n",
    "    instrument=instrument,    # None to use instrument of the dataset\n",
    "    tempo=tempo,\n",
    "    model=midi_generator,\n",
    "    played_voice=played_voice,\n",
    "    include_output=include_output,\n",
    "    instrument_mask=instrument_mask,\n",
    "    max_plotted=max_plotted,\n",
    "    plot_pianoroll=False\n",
    ")"
   ]
  },
  {
   "cell_type": "markdown",
   "metadata": {},
   "source": [
    "## Play"
   ]
  },
  {
   "cell_type": "code",
   "execution_count": 9,
   "metadata": {},
   "outputs": [],
   "source": [
    "controller.play()"
   ]
  },
  {
   "cell_type": "markdown",
   "metadata": {},
   "source": [
    "## Quit"
   ]
  },
  {
   "cell_type": "code",
   "execution_count": 10,
   "metadata": {},
   "outputs": [],
   "source": [
    "MidiPlayer.player.close()\n",
    "pygame.midi.quit()"
   ]
  }
 ],
 "metadata": {
  "kernelspec": {
   "display_name": "Python 3",
   "language": "python",
   "name": "python3"
  },
  "language_info": {
   "codemirror_mode": {
    "name": "ipython",
    "version": 3
   },
   "file_extension": ".py",
   "mimetype": "text/x-python",
   "name": "python",
   "nbconvert_exporter": "python",
   "pygments_lexer": "ipython3",
   "version": "3.7.3"
  }
 },
 "nbformat": 4,
 "nbformat_minor": 2
}
