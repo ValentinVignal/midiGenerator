{
 "cells": [
  {
   "cell_type": "markdown",
   "metadata": {},
   "source": [
    "# Midi Generator"
   ]
  },
  {
   "cell_type": "markdown",
   "metadata": {},
   "source": [
    "---"
   ]
  },
  {
   "cell_type": "markdown",
   "metadata": {},
   "source": [
    "# Setup"
   ]
  },
  {
   "cell_type": "markdown",
   "metadata": {},
   "source": [
    "## Import"
   ]
  },
  {
   "cell_type": "code",
   "execution_count": 1,
   "metadata": {},
   "outputs": [],
   "source": [
    "# Import\n",
    "import tensorflow as tf\n",
    "import matplotlib.pyplot as plt\n",
    "import numpy as np\n",
    "from epicpath import EPath\n",
    "# Personal import\n",
    "from src.MidiGenerator import MidiGenerator\n",
    "from src import GlobalVariables as g"
   ]
  },
  {
   "cell_type": "markdown",
   "metadata": {},
   "source": [
    "## Variables"
   ]
  },
  {
   "cell_type": "code",
   "execution_count": 2,
   "metadata": {},
   "outputs": [],
   "source": [
    "opt_param = dict(\n",
    "    lr=g.nn.lr,   # 1e-3\n",
    "    name=g.nn.opt_name, # 'adam'\n",
    "    decay=g.nn.decay   # 1e-1\n",
    ")\n",
    "model_options = dict(\n",
    "     dropout_d=g.nn.dropout_d,   # dropout for dense layers\n",
    "     dropout_c=g.nn.dropout_c,   # dropout for convolutional layers\n",
    "     dropout_r=g.nn.dropout_r,   # dropout for LSTM layers\n",
    "     all_sequence=g.nn.all_sequence,  # Either to consider the all sequence as the ouput of the LSTM layers\n",
    "     lstm_state=g.nn.lstm_state,      # Either to consider the state of the LSTM as an output\n",
    "     sampling=g.nn.sampling,     # Sampling after the Product of Expert\n",
    "     kld=g.nn.kld,   # Include the KLD loss\n",
    "     kld_annealing_start=g.nn.kld_annealing_start,   # When to start to increment the KLD loss\n",
    "     kld_annealing_stop=g.nn.kld_annealing_stop,     # When to stop to increment the KLD loss\n",
    "     kld_sum=g.nn.kld_sum,    # Some the KLD loss through the time steps\n",
    "     sah=g.nn.sah,    # Self attention head after the first LSTM layer\n",
    "     rpoe=g.nn.rpoe   # Give the PoE result as a modality to the next one\n",
    " )\n",
    "loss_options = dict(\n",
    "    loss_name='mono',   # Name of the loss\n",
    "    l_scale=g.loss.l_scale,   # Lambda of the scale loss\n",
    "    l_rhythm=g.loss.l_rhythm,   # Lambda of the rhythm loss\n",
    "    take_all_step_rhythm=g.loss.take_all_step_rhythm,   # Should consider the all steps all together for the rhythm \n",
    "    l_semitone=g.loss.l_semitone,   # Lambda for the semitone loss\n",
    "    l_tone=g.loss.l_tone,   # Lambda for the tone loss\n",
    "    l_tritone=g.loss.l_tritone   # Lambda for the tritone loss\n",
    ")\n",
    "model_id = 'MRMVAEMono,pc,2'\n",
    "predict_offset = 1   # Number of step ahead you want to predict"
   ]
  },
  {
   "cell_type": "markdown",
   "metadata": {},
   "source": [
    "# Create a Model"
   ]
  },
  {
   "cell_type": "code",
   "execution_count": 3,
   "metadata": {},
   "outputs": [
    {
     "name": "stdout",
     "output_type": "stream",
     "text": [
      "new save path for Midi files : \u001b[36mgenerated_midis\\None-m()-e(0)-(0)-generation(0)\u001b[0m\n",
      "Got new full_name : \u001b[34mNone-m()-e(0)-(0)\u001b[0m\n",
      "new save path for Midi files : \u001b[36mgenerated_midis\\None-m()-e(0)-(0)-generation(0)\u001b[0m\n"
     ]
    }
   ],
   "source": [
    "midi_generator = MidiGenerator(name=None)"
   ]
  },
  {
   "cell_type": "markdown",
   "metadata": {},
   "source": [
    "### Create a new model"
   ]
  },
  {
   "cell_type": "code",
   "execution_count": 4,
   "metadata": {},
   "outputs": [
    {
     "name": "stdout",
     "output_type": "stream",
     "text": [
      "data at \u001b[47m\u001b[30m..\\Dataset\\Scale_transformedMono\u001b[0m loaded\n"
     ]
    }
   ],
   "source": [
    "# Load the data\n",
    "data_path = EPath('..', 'Dataset', 'Scale')\n",
    "data_path += '_transformedMono'\n",
    "midi_generator.load_data(data_transformed_path=data_path)"
   ]
  },
  {
   "cell_type": "code",
   "execution_count": 5,
   "metadata": {},
   "outputs": [
    {
     "name": "stdout",
     "output_type": "stream",
     "text": [
      "Got new full_name : \u001b[34mNone-m(MRMVAEMono,pc,2)-e(0)-(0)\u001b[0m\n",
      "new save path for Midi files : \u001b[36mgenerated_midis\\None-m(MRMVAEMono,pc,2)-e(0)-(0)-generation(0)\u001b[0m\n",
      "Got new full_name : \u001b[34mNone-m(MRMVAEMono,pc,2)-e(0)-(0)\u001b[0m\n",
      "new save path for Midi files : \u001b[36mgenerated_midis\\None-m(MRMVAEMono,pc,2)-e(0)-(0)-generation(0)\u001b[0m\n",
      "Got new full_name : \u001b[34mNone-m(MRMVAEMono,pc,2)-e(0)-(0)\u001b[0m\n",
      "new save path for Midi files : \u001b[36mgenerated_midis\\None-m(MRMVAEMono,pc,2)-e(0)-(0)-generation(0)\u001b[0m\n",
      "Definition of the graph ...\n"
     ]
    }
   ],
   "source": [
    "midi_generator.new_nn_model(\n",
    "    model_id=model_id,\n",
    "    opt_param=opt_param,\n",
    "    work_on=g.mg.work_on,   # 'measure'\n",
    "    model_options=model_options,\n",
    "    loss_options=loss_options,\n",
    "    predict_offset=predict_offset,\n",
    "    print_model=False\n",
    ")\n",
    "print('done')"
   ]
  },
  {
   "cell_type": "markdown",
   "metadata": {},
   "source": [
    "### Load a model"
   ]
  },
  {
   "cell_type": "code",
   "execution_count": null,
   "metadata": {},
   "outputs": [],
   "source": [
    "model_id_load = 'name-MRMVAEMono,pc,2-2-0'\n",
    "midi_generator.recreate_model(\n",
    "    id=model_id_load,\n",
    "    with_weights=True,\n",
    "    print_model=False\n",
    ")"
   ]
  },
  {
   "cell_type": "markdown",
   "metadata": {},
   "source": [
    "# Train"
   ]
  },
  {
   "cell_type": "code",
   "execution_count": 6,
   "metadata": {},
   "outputs": [
    {
     "name": "stdout",
     "output_type": "stream",
     "text": [
      "\u001b[34mTraining...\u001b[0m\n",
      "Epoch 1/2\n",
      "40/40 [==============================] - 15s 368ms/step - loss: 21.6008 - Output_0_loss: 9.7156 - Output_1_loss: 10.1837 - All_outputs_loss: -0.0424 - Output_0_acc: 0.8664 - Output_1_acc: 0.8430 - kld: 0.0000e+00 - harmony: 1.7439 - val_loss: 60.5502 - val_Output_0_loss: 27.8830 - val_Output_1_loss: 30.3713 - val_All_outputs_loss: -0.0247 - val_Output_0_acc: 0.8125 - val_Output_1_acc: 0.8500 - val_kld: 0.0000e+00 - val_harmony: 2.3207\n",
      "Epoch 2/2\n",
      "40/40 [==============================] - 15s 381ms/step - loss: 11.8214 - Output_0_loss: 4.8989 - Output_1_loss: 4.5459 - All_outputs_loss: -0.0813 - Output_0_acc: 0.9406 - Output_1_acc: 0.9352 - kld: 1.4492 - harmony: 1.0088 - val_loss: 53.8375 - val_Output_0_loss: 23.1449 - val_Output_1_loss: 27.5127 - val_All_outputs_loss: -0.0377 - val_Output_0_acc: 0.8500 - val_Output_1_acc: 0.8500 - val_kld: 0.9927 - val_harmony: 2.2249\n",
      "Got new full_name : \u001b[34mNone-m(MRMVAEMono,pc,2)-e(0)-(0)\u001b[0m\n",
      "new save path for Midi files : \u001b[36mgenerated_midis\\None-m(MRMVAEMono,pc,2)-e(0)-(0)-generation(0)\u001b[0m\n",
      "Got new full_name : \u001b[34mNone-m(MRMVAEMono,pc,2)-e(2)-(0)\u001b[0m\n",
      "new save path for Midi files : \u001b[36mgenerated_midis\\None-m(MRMVAEMono,pc,2)-e(2)-(0)-generation(0)\u001b[0m\n",
      "\u001b[32mTraining done\u001b[0m\n"
     ]
    },
    {
     "data": {
      "text/plain": [
       "{'loss': [21.600799986720084, 11.821354526281358],\n",
       " 'Output_0_loss': [9.715619, 4.898897],\n",
       " 'Output_1_loss': [10.1836605, 4.5458508],\n",
       " 'All_outputs_loss': [-0.042401187, -0.08134002],\n",
       " 'Output_0_acc': [0.86640626, 0.940625],\n",
       " 'Output_1_acc': [0.84296876, 0.9351562],\n",
       " 'kld': [0.0, 1.4491518],\n",
       " 'harmony': [1.7439216, 1.0087951],\n",
       " 'val_loss': [60.55020837783813, 53.83748168945313],\n",
       " 'val_Output_0_loss': [27.883007, 23.144888],\n",
       " 'val_Output_1_loss': [30.371258, 27.512684],\n",
       " 'val_All_outputs_loss': [-0.02472375, -0.037703477],\n",
       " 'val_Output_0_acc': [0.8125, 0.85],\n",
       " 'val_Output_1_acc': [0.85, 0.85],\n",
       " 'val_kld': [0.0, 0.99272805],\n",
       " 'val_harmony': [2.320668, 2.2248912]}"
      ]
     },
     "execution_count": 6,
     "metadata": {},
     "output_type": "execute_result"
    }
   ],
   "source": [
    "midi_generator.train(\n",
    "    epochs=2,\n",
    "    batch=2,\n",
    "    noise=g.train.noise,   # Insert some noise in the input\n",
    "    validation=g.train.validation,   # Validation split (0.1)\n",
    "    sequence_to_numpy=False,    # Store all data in a numpy array and use normal train (/!\\ memory leak and OOM /!\\)\n",
    "    fast_sequence=False,    # To train faster in a sequence with very few computation\n",
    "    memory_sequence=False    # Store all the data in memory in a sequence to train faster. Use .train_seq()\n",
    ")"
   ]
  },
  {
   "cell_type": "markdown",
   "metadata": {},
   "source": [
    "## Evaluate"
   ]
  },
  {
   "cell_type": "code",
   "execution_count": 8,
   "metadata": {},
   "outputs": [
    {
     "name": "stdout",
     "output_type": "stream",
     "text": [
      "\u001b[34mEvaluation\u001b[0m\n",
      "45/45 [==============================] - 6s 132ms/step - loss: 31.2248 - Output_0_loss: 12.8645 - Output_1_loss: 15.2836 - All_outputs_loss: -0.0209 - Output_0_acc: 0.9167 - Output_1_acc: 0.9167 - kld: 0.8729 - harmony: 2.2247\n",
      "loss \u001b[35m31.224807596206666\u001b[0m -- Output_0_loss \u001b[35m12.864498\u001b[0m -- Output_1_loss \u001b[35m15.2836075\u001b[0m -- All_outputs_loss \u001b[35m-0.02092815\u001b[0m -- Output_0_acc \u001b[35m0.9166667\u001b[0m -- Output_1_acc \u001b[35m0.9166667\u001b[0m -- kld \u001b[35m0.8729199\u001b[0m -- harmony \u001b[35m2.2247117\u001b[0m -- \n"
     ]
    }
   ],
   "source": [
    "midi_generator.evaluate()"
   ]
  },
  {
   "cell_type": "markdown",
   "metadata": {},
   "source": [
    "# Generation"
   ]
  },
  {
   "cell_type": "markdown",
   "metadata": {},
   "source": [
    "## generate"
   ]
  },
  {
   "cell_type": "code",
   "execution_count": 9,
   "metadata": {},
   "outputs": [
    {
     "name": "stderr",
     "output_type": "stream",
     "text": [
      "\r",
      "                                                                               \r",
      "\r",
      "[                                                         ] N/A% ETA:  --:--:--"
     ]
    },
    {
     "name": "stdout",
     "output_type": "stream",
     "text": [
      "\u001b[34mStart generating from data ...\u001b[0m\n",
      "\u001b[34mGeneration 1/4\u001b[0m\n"
     ]
    },
    {
     "name": "stderr",
     "output_type": "stream",
     "text": [
      "[=========================================================] 100% Time:  0:00:02\n",
      "[                                                         ] N/A% ETA:  --:--:--"
     ]
    },
    {
     "name": "stdout",
     "output_type": "stream",
     "text": [
      "notes in seed : \u001b[35m[16, 16]\u001b[0m notes generated : \u001b[35m[0, 0]\u001b[0m for length \u001b[35m192\u001b[0m\n",
      "Converting to Midi ...\n",
      "\u001b[32mgenerated_midis\\None-m(MRMVAEMono,pc,2)-e(2)-(0)-generation(0)\\generated_0.mid saved\u001b[0m\n",
      "\u001b[34mGeneration 2/4\u001b[0m\n"
     ]
    },
    {
     "name": "stderr",
     "output_type": "stream",
     "text": [
      "[=========================================================] 100% Time:  0:00:00\n",
      "[=====                                                    ]  10% ETA:   0:00:00"
     ]
    },
    {
     "name": "stdout",
     "output_type": "stream",
     "text": [
      "notes in seed : \u001b[35m[16, 16]\u001b[0m notes generated : \u001b[35m[0, 0]\u001b[0m for length \u001b[35m192\u001b[0m\n",
      "Converting to Midi ...\n",
      "\u001b[32mgenerated_midis\\None-m(MRMVAEMono,pc,2)-e(2)-(0)-generation(0)\\generated_1.mid saved\u001b[0m\n",
      "\u001b[34mGeneration 3/4\u001b[0m\n"
     ]
    },
    {
     "name": "stderr",
     "output_type": "stream",
     "text": [
      "[=========================================================] 100% Time:  0:00:00\n",
      "[=====                                                    ]  10% ETA:   0:00:00"
     ]
    },
    {
     "name": "stdout",
     "output_type": "stream",
     "text": [
      "notes in seed : \u001b[35m[16, 16]\u001b[0m notes generated : \u001b[35m[0, 0]\u001b[0m for length \u001b[35m192\u001b[0m\n",
      "Converting to Midi ...\n",
      "\u001b[32mgenerated_midis\\None-m(MRMVAEMono,pc,2)-e(2)-(0)-generation(0)\\generated_2.mid saved\u001b[0m\n",
      "\u001b[34mGeneration 4/4\u001b[0m\n"
     ]
    },
    {
     "name": "stderr",
     "output_type": "stream",
     "text": [
      "[=========================================================] 100% Time:  0:00:00\n"
     ]
    },
    {
     "name": "stdout",
     "output_type": "stream",
     "text": [
      "notes in seed : \u001b[35m[16, 16]\u001b[0m notes generated : \u001b[35m[0, 0]\u001b[0m for length \u001b[35m192\u001b[0m\n",
      "Converting to Midi ...\n",
      "\u001b[32mgenerated_midis\\None-m(MRMVAEMono,pc,2)-e(2)-(0)-generation(0)\\generated_3.mid saved\u001b[0m\n",
      "\u001b[32mDone generating\u001b[0m\n"
     ]
    }
   ],
   "source": [
    "midi_generator.generate_from_data(\n",
    "    nb_seeds=4,\n",
    "    save_images=True,\n",
    "    no_duration=True,\n",
    ")"
   ]
  },
  {
   "cell_type": "code",
   "execution_count": 10,
   "metadata": {},
   "outputs": [
    {
     "name": "stderr",
     "output_type": "stream",
     "text": [
      "[======                                                   ]  11% ETA:   0:00:01"
     ]
    },
    {
     "name": "stdout",
     "output_type": "stream",
     "text": [
      "\u001b[34mStart generating (fill) ...\u001b[0m\n"
     ]
    },
    {
     "name": "stderr",
     "output_type": "stream",
     "text": [
      "[=========================================================] 100% Time:  0:00:01\n"
     ]
    },
    {
     "name": "stdout",
     "output_type": "stream",
     "text": [
      "notes in seed : \u001b[35m[17, 17]\u001b[0m notes generated : \u001b[35m[143, 143]\u001b[0m for length \u001b[35m320\u001b[0m\n",
      "Converting to Midi ...\n",
      "\u001b[32mgenerated_midis\\None-m(MRMVAEMono,pc,2)-e(2)-(0)-generation(0)\\generated_fill_truth.mid saved\u001b[0m\n",
      "notes in seed : \u001b[35m[33, 17]\u001b[0m notes generated : \u001b[35m[143, 143]\u001b[0m for length \u001b[35m320\u001b[0m\n",
      "Converting to Midi ...\n",
      "\u001b[32mgenerated_midis\\None-m(MRMVAEMono,pc,2)-e(2)-(0)-generation(0)\\generated_fill_0.mid saved\u001b[0m\n",
      "Accuracy of the generation generated_fill_0 : \u001b[35m[0.68125, 1.0]\u001b[0m , overall : \u001b[35m0.840625\u001b[0m\n",
      "notes in seed : \u001b[35m[17, 33]\u001b[0m notes generated : \u001b[35m[143, 143]\u001b[0m for length \u001b[35m320\u001b[0m\n",
      "Converting to Midi ...\n",
      "\u001b[32mgenerated_midis\\None-m(MRMVAEMono,pc,2)-e(2)-(0)-generation(0)\\generated_fill_1.mid saved\u001b[0m\n",
      "Accuracy of the generation generated_fill_1 : \u001b[35m[1.0, 0.675]\u001b[0m , overall : \u001b[35m0.8375\u001b[0m\n",
      "\u001b[32mDone generating (fill)\u001b[0m\n"
     ]
    }
   ],
   "source": [
    "midi_generator.generate_fill(\n",
    "    no_duration=True,\n",
    "    verbose=1\n",
    ")"
   ]
  },
  {
   "cell_type": "code",
   "execution_count": 13,
   "metadata": {},
   "outputs": [
    {
     "name": "stderr",
     "output_type": "stream",
     "text": [
      "[                                                         ]   1% ETA:   0:00:08"
     ]
    },
    {
     "name": "stdout",
     "output_type": "stream",
     "text": [
      "\u001b[34mStart redoing song (generate) ...\u001b[0m\n"
     ]
    },
    {
     "name": "stderr",
     "output_type": "stream",
     "text": [
      "[=========================================================] 100% Time:  0:00:04\n"
     ]
    },
    {
     "name": "stdout",
     "output_type": "stream",
     "text": [
      "notes in seed : \u001b[35m[17, 17]\u001b[0m notes generated : \u001b[35m[240, 239]\u001b[0m for length \u001b[35m512\u001b[0m\n",
      "Converting to Midi ...\n",
      "\u001b[32mgenerated_midis\\None-m(MRMVAEMono,pc,2)-e(2)-(0)-generation(0)\\redo_song_generate_truth.mid saved\u001b[0m\n",
      "notes in seed : \u001b[35m[17, 17]\u001b[0m notes generated : \u001b[35m[247, 239]\u001b[0m for length \u001b[35m512\u001b[0m\n",
      "Converting to Midi ...\n",
      "\u001b[32mgenerated_midis\\None-m(MRMVAEMono,pc,2)-e(2)-(0)-generation(0)\\redo_song_generate_0_(inst_0).mid saved\u001b[0m\n",
      "Accuracy of the generation redo_song_generate_0_(inst_0) : \u001b[35m[0.7265625, 1.0]\u001b[0m , overall : \u001b[35m0.86328125\u001b[0m\n",
      "notes in seed : \u001b[35m[17, 17]\u001b[0m notes generated : \u001b[35m[231, 231]\u001b[0m for length \u001b[35m512\u001b[0m\n",
      "Converting to Midi ...\n",
      "\u001b[32mgenerated_midis\\None-m(MRMVAEMono,pc,2)-e(2)-(0)-generation(0)\\redo_song_generate_1_(inst_1).mid saved\u001b[0m\n",
      "Accuracy of the generation redo_song_generate_1_(inst_1) : \u001b[35m[0.7265625, 0.732421875]\u001b[0m , overall : \u001b[35m0.7294921875\u001b[0m\n",
      "\u001b[32mDone redo song generate\u001b[0m\n"
     ]
    }
   ],
   "source": [
    "midi_generator.redo_song_generate(\n",
    "    song_number=None,\n",
    "    instrument_order=None,\n",
    "    save_images=True,\n",
    "    no_duration=True,\n",
    "    noise=g.train.noise\n",
    ")"
   ]
  },
  {
   "cell_type": "code",
   "execution_count": 14,
   "metadata": {},
   "outputs": [
    {
     "name": "stderr",
     "output_type": "stream",
     "text": [
      "[===========                                              ]  20% ETA:   0:00:00"
     ]
    },
    {
     "name": "stdout",
     "output_type": "stream",
     "text": [
      "\u001b[34mStart comparing generation ...\u001b[0m\n"
     ]
    },
    {
     "name": "stderr",
     "output_type": "stream",
     "text": [
      "[=========================================================] 100% Time:  0:00:00\n"
     ]
    },
    {
     "name": "stdout",
     "output_type": "stream",
     "text": [
      "notes in seed : \u001b[35m[17, 17]\u001b[0m notes generated : \u001b[35m[79, 79]\u001b[0m for length \u001b[35m192\u001b[0m\n",
      "Converting to Midi ...\n",
      "\u001b[32mgenerated_midis\\None-m(MRMVAEMono,pc,2)-e(2)-(0)-generation(0)\\compare_generation_alone.mid saved\u001b[0m\n",
      "Accuracy of the generation compare_generation_alone : \u001b[35m[0.7916666666666666, 0.7916666666666666]\u001b[0m , overall : \u001b[35m0.7916666666666666\u001b[0m\n",
      "notes in seed : \u001b[35m[17, 17]\u001b[0m notes generated : \u001b[35m[79, 79]\u001b[0m for length \u001b[35m192\u001b[0m\n",
      "Converting to Midi ...\n",
      "\u001b[32mgenerated_midis\\None-m(MRMVAEMono,pc,2)-e(2)-(0)-generation(0)\\compare_generation_helped.mid saved\u001b[0m\n",
      "Accuracy of the generation compare_generation_helped : \u001b[35m[0.7916666666666666, 0.7916666666666666]\u001b[0m , overall : \u001b[35m0.7916666666666666\u001b[0m\n",
      "notes in seed : \u001b[35m[17, 17]\u001b[0m notes generated : \u001b[35m[79, 79]\u001b[0m for length \u001b[35m192\u001b[0m\n",
      "Converting to Midi ...\n",
      "\u001b[32mgenerated_midis\\None-m(MRMVAEMono,pc,2)-e(2)-(0)-generation(0)\\compare_generation_truth.mid saved\u001b[0m\n",
      "\u001b[32mDone comparing generation\u001b[0m\n"
     ]
    }
   ],
   "source": [
    "midi_generator.compare_generation(\n",
    "    max_length=None,\n",
    "    no_duration=True,\n",
    "    verbose=1\n",
    ")"
   ]
  },
  {
   "cell_type": "markdown",
   "metadata": {},
   "source": [
    "## replicate"
   ]
  },
  {
   "cell_type": "code",
   "execution_count": null,
   "metadata": {},
   "outputs": [],
   "source": [
    "midi_generator.replicate_from_data(\n",
    "    save_images=True,\n",
    "    no_duration=True,\n",
    "    noise=g.train.noise\n",
    ")"
   ]
  },
  {
   "cell_type": "code",
   "execution_count": null,
   "metadata": {},
   "outputs": [],
   "source": [
    "midi_generator.replicate_fill(\n",
    "    save_images=True,\n",
    "    no_duration=True,\n",
    "    verbose=1,\n",
    "    noise=g.train.noise\n",
    ")"
   ]
  },
  {
   "cell_type": "code",
   "execution_count": null,
   "metadata": {},
   "outputs": [],
   "source": [
    "midi_generator.redo_song_replicate(\n",
    "    song_number=None,\n",
    "    instrument_order=None,\n",
    "    save_images=True,\n",
    "    no_duration=True,\n",
    "    noise=g.train.noise\n",
    ")"
   ]
  }
 ],
 "metadata": {
  "kernelspec": {
   "display_name": "Python 3",
   "language": "python",
   "name": "python3"
  },
  "language_info": {
   "codemirror_mode": {
    "name": "ipython",
    "version": 3
   },
   "file_extension": ".py",
   "mimetype": "text/x-python",
   "name": "python",
   "nbconvert_exporter": "python",
   "pygments_lexer": "ipython3",
   "version": "3.7.3"
  }
 },
 "nbformat": 4,
 "nbformat_minor": 2
}
